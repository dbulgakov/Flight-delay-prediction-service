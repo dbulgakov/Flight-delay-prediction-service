{
 "cells": [
  {
   "cell_type": "code",
   "execution_count": 1,
   "metadata": {},
   "outputs": [],
   "source": [
    "import os\n",
    "import sys\n",
    "import logging\n",
    "logger = logging.getLogger()\n",
    "logger.setLevel(logging.INFO)\n",
    "\n",
    "nb_dir = os.path.split(os.getcwd())[0]\n",
    "if nb_dir not in sys.path:\n",
    "    sys.path.append(nb_dir)"
   ]
  },
  {
   "cell_type": "code",
   "execution_count": 2,
   "metadata": {},
   "outputs": [
    {
     "name": "stderr",
     "output_type": "stream",
     "text": [
      "/Users/bulhakovdmytro/anaconda3/lib/python3.6/site-packages/requests/__init__.py:80: RequestsDependencyWarning: urllib3 (1.24.2) or chardet (3.0.4) doesn't match a supported version!\n",
      "  RequestsDependencyWarning)\n"
     ]
    }
   ],
   "source": [
    "import utils.downloading\n",
    "import utils.files\n",
    "from utils.progress.log_progress import log_progress\n",
    "from utils.files.file_helper import ensure_directory, save_text_file\n",
    "import utils.configuration"
   ]
  },
  {
   "cell_type": "code",
   "execution_count": 3,
   "metadata": {},
   "outputs": [],
   "source": [
    "config = utils.configuration.Configuration()"
   ]
  },
  {
   "cell_type": "code",
   "execution_count": 4,
   "metadata": {},
   "outputs": [],
   "source": [
    "HISTORICAL_DATA_FOLDER = config.config['DEFAULT']['FLIGHT_DATA']\n",
    "YEARS_TO_DOWNLOAD = config.config['DEFAULT']['WORKING_YEARS']"
   ]
  },
  {
   "cell_type": "code",
   "execution_count": 5,
   "metadata": {},
   "outputs": [],
   "source": [
    "def download_data(years_to_download, folder_to_save):\n",
    "    logging.info('Starting to download historical data')\n",
    "    for year in log_progress(years_to_download):\n",
    "        logging.info('Requesting data for {}'.format(year))\n",
    "        yearly_data = load_year_data(year)\n",
    "        logging.info('Saving data for {}'.format(year))\n",
    "        save_folder_name = get_folder_for_year(folder_to_save, year)\n",
    "        ensure_directory(save_folder_name)\n",
    "        save_year_data(save_folder_name, year, yearly_data)"
   ]
  },
  {
   "cell_type": "code",
   "execution_count": 6,
   "metadata": {},
   "outputs": [],
   "source": [
    "def get_folder_for_year(folder_to_save, year):\n",
    "    return '{}/{}'.format(folder_to_save, year)"
   ]
  },
  {
   "cell_type": "code",
   "execution_count": 7,
   "metadata": {},
   "outputs": [],
   "source": [
    "def save_year_data(save_folder, year, year_data):\n",
    "    for index, month_data in enumerate(year_data):\n",
    "        save_text_file(month_data, '{}-{}.csv'.format(year, index + 1), save_folder)"
   ]
  },
  {
   "cell_type": "code",
   "execution_count": 8,
   "metadata": {},
   "outputs": [],
   "source": [
    "def load_year_data(year):\n",
    "    downloaded_data = []\n",
    "    for month in range(1, 13):\n",
    "        downloaded_data.append(load_month_data(year, month))\n",
    "    return downloaded_data"
   ]
  },
  {
   "cell_type": "code",
   "execution_count": 9,
   "metadata": {},
   "outputs": [],
   "source": [
    "def load_month_data(year, month):\n",
    "    logging.info('Requesting data for {}-{}'.format(year, month))\n",
    "    downloader = utils.downloading.BTSFlightDataDownloader()\n",
    "    return downloader.download_fights_history(year, month)"
   ]
  },
  {
   "cell_type": "code",
   "execution_count": null,
   "metadata": {},
   "outputs": [
    {
     "name": "stderr",
     "output_type": "stream",
     "text": [
      "INFO:root:Starting to download historical data\n"
     ]
    },
    {
     "data": {
      "application/vnd.jupyter.widget-view+json": {
       "model_id": "f8159b11c6da4c9bb4719f6e1421be3f",
       "version_major": 2,
       "version_minor": 0
      },
      "text/plain": [
       "VBox(children=(HTML(value=''), IntProgress(value=0, max=2)))"
      ]
     },
     "metadata": {},
     "output_type": "display_data"
    },
    {
     "name": "stderr",
     "output_type": "stream",
     "text": [
      "INFO:root:Requesting data for 2017\n",
      "INFO:root:Requesting data for 2017-1\n"
     ]
    }
   ],
   "source": [
    "download_data(YEARS_TO_DOWNLOAD, HISTORICAL_DATA_FOLDER)"
   ]
  },
  {
   "cell_type": "code",
   "execution_count": null,
   "metadata": {},
   "outputs": [],
   "source": [
    "utils.files"
   ]
  },
  {
   "cell_type": "code",
   "execution_count": null,
   "metadata": {},
   "outputs": [],
   "source": []
  }
 ],
 "metadata": {
  "kernelspec": {
   "display_name": "Python 3",
   "language": "python",
   "name": "python3"
  },
  "language_info": {
   "codemirror_mode": {
    "name": "ipython",
    "version": 3
   },
   "file_extension": ".py",
   "mimetype": "text/x-python",
   "name": "python",
   "nbconvert_exporter": "python",
   "pygments_lexer": "ipython3",
   "version": "3.6.8"
  }
 },
 "nbformat": 4,
 "nbformat_minor": 2
}
