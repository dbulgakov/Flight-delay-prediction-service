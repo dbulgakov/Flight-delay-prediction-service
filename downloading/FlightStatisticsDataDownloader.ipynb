{
 "cells": [
  {
   "cell_type": "code",
   "execution_count": 1,
   "metadata": {},
   "outputs": [],
   "source": [
    "import os\n",
    "import sys\n",
    "import logging\n",
    "logger = logging.getLogger()\n",
    "logger.setLevel(logging.INFO)\n",
    "\n",
    "nb_dir = os.path.split(os.getcwd())[0]\n",
    "if nb_dir not in sys.path:\n",
    "    sys.path.append(nb_dir)"
   ]
  },
  {
   "cell_type": "code",
   "execution_count": 2,
   "metadata": {},
   "outputs": [
    {
     "name": "stderr",
     "output_type": "stream",
     "text": [
      "/Users/bulhakovdmytro/anaconda3/lib/python3.6/site-packages/requests/__init__.py:80: RequestsDependencyWarning: urllib3 (1.24.2) or chardet (3.0.4) doesn't match a supported version!\n",
      "  RequestsDependencyWarning)\n"
     ]
    }
   ],
   "source": [
    "import utils.downloading\n",
    "import utils.files\n",
    "from utils.progress.log_progress import log_progress\n",
    "from utils.\n",
    "import utils.configuration"
   ]
  },
  {
   "cell_type": "code",
   "execution_count": 3,
   "metadata": {},
   "outputs": [],
   "source": [
    "config = utils.configuration.Configuration()"
   ]
  },
  {
   "cell_type": "code",
   "execution_count": 4,
   "metadata": {},
   "outputs": [],
   "source": [
    "HISTORICAL_DATA_FOLDER = config.config['DEFAULT']['FLIGHT_DATA']\n",
    "YEARS_TO_DOWNLOAD = config.config['DEFAULT']['WORKING_YEARS']"
   ]
  },
  {
   "cell_type": "code",
   "execution_count": 11,
   "metadata": {},
   "outputs": [],
   "source": [
    "def download_data(years_to_download, folder_to_save):\n",
    "    logging.info('Starting to download historical data')\n",
    "    for year in log_progress(years_to_download):\n",
    "        logging.info('Requesting data for {}'.format(year))\n",
    "        yearly_data = load_year_data(year)\n",
    "        logging.info('Saving data for {}'.format(year))\n",
    "        save_folder_name = get_folder_for_year(folder_to_save, year)\n",
    "        utils.files.ensure_directory(save_folder_name)\n",
    "        save_year_data(save_folder_name, year, yearly_data)"
   ]
  },
  {
   "cell_type": "code",
   "execution_count": 12,
   "metadata": {},
   "outputs": [],
   "source": [
    "def get_folder_for_year(folder_to_save, year):\n",
    "    return '{}/{}'.format(folder_to_save, year)"
   ]
  },
  {
   "cell_type": "code",
   "execution_count": 13,
   "metadata": {},
   "outputs": [],
   "source": [
    "def save_year_data(save_folder, year, year_data):\n",
    "    for index, month_data in enumerate(year_data):\n",
    "        utils.files.save_text_file(month_data, '{}-{}.csv'.format(year, index + 1), save_folder)"
   ]
  },
  {
   "cell_type": "code",
   "execution_count": 14,
   "metadata": {},
   "outputs": [],
   "source": [
    "def load_year_data(year):\n",
    "    downloaded_data = []\n",
    "    for month in range(1, 13):\n",
    "        downloaded_data.append(load_month_data(year, month))\n",
    "    return downloaded_data"
   ]
  },
  {
   "cell_type": "code",
   "execution_count": 15,
   "metadata": {},
   "outputs": [],
   "source": [
    "def load_month_data(year, month):\n",
    "    logging.info('Requesting data for {}-{}'.format(year, month))\n",
    "    downloader = utils.downloading.BTSFlightDataDownloader()\n",
    "    return downloader.download_fights_history(year, month)"
   ]
  },
  {
   "cell_type": "code",
   "execution_count": 16,
   "metadata": {},
   "outputs": [
    {
     "name": "stderr",
     "output_type": "stream",
     "text": [
      "INFO:root:Starting to download historical data\n"
     ]
    },
    {
     "data": {
      "application/vnd.jupyter.widget-view+json": {
       "model_id": "a558f3206dae4e8c90522174f6e96ce5",
       "version_major": 2,
       "version_minor": 0
      },
      "text/plain": [
       "VBox(children=(HTML(value=''), IntProgress(value=0, max=2)))"
      ]
     },
     "metadata": {},
     "output_type": "display_data"
    },
    {
     "name": "stderr",
     "output_type": "stream",
     "text": [
      "INFO:root:Requesting data for 2017\n",
      "INFO:root:Requesting data for 2017-1\n",
      "INFO:root:Requesting data for 2017-2\n",
      "INFO:root:Requesting data for 2017-3\n",
      "INFO:root:Requesting data for 2017-4\n",
      "INFO:root:Requesting data for 2017-5\n",
      "INFO:root:Requesting data for 2017-6\n",
      "INFO:root:Requesting data for 2017-7\n",
      "INFO:root:Requesting data for 2017-8\n",
      "INFO:root:Requesting data for 2017-9\n",
      "INFO:root:Requesting data for 2017-10\n",
      "INFO:root:Requesting data for 2017-11\n",
      "INFO:root:Requesting data for 2017-12\n",
      "INFO:root:Saving data for 2017\n"
     ]
    },
    {
     "ename": "AttributeError",
     "evalue": "module 'utils.files' has no attribute 'ensure_directory'",
     "output_type": "error",
     "traceback": [
      "\u001b[0;31m---------------------------------------------------------------------------\u001b[0m",
      "\u001b[0;31mAttributeError\u001b[0m                            Traceback (most recent call last)",
      "\u001b[0;32m<ipython-input-16-2a8309d72129>\u001b[0m in \u001b[0;36m<module>\u001b[0;34m()\u001b[0m\n\u001b[0;32m----> 1\u001b[0;31m \u001b[0mdownload_data\u001b[0m\u001b[0;34m(\u001b[0m\u001b[0mYEARS_TO_DOWNLOAD\u001b[0m\u001b[0;34m,\u001b[0m \u001b[0mHISTORICAL_DATA_FOLDER\u001b[0m\u001b[0;34m)\u001b[0m\u001b[0;34m\u001b[0m\u001b[0;34m\u001b[0m\u001b[0m\n\u001b[0m",
      "\u001b[0;32m<ipython-input-11-38deb2efba4d>\u001b[0m in \u001b[0;36mdownload_data\u001b[0;34m(years_to_download, folder_to_save)\u001b[0m\n\u001b[1;32m      6\u001b[0m         \u001b[0mlogging\u001b[0m\u001b[0;34m.\u001b[0m\u001b[0minfo\u001b[0m\u001b[0;34m(\u001b[0m\u001b[0;34m'Saving data for {}'\u001b[0m\u001b[0;34m.\u001b[0m\u001b[0mformat\u001b[0m\u001b[0;34m(\u001b[0m\u001b[0myear\u001b[0m\u001b[0;34m)\u001b[0m\u001b[0;34m)\u001b[0m\u001b[0;34m\u001b[0m\u001b[0;34m\u001b[0m\u001b[0m\n\u001b[1;32m      7\u001b[0m         \u001b[0msave_folder_name\u001b[0m \u001b[0;34m=\u001b[0m \u001b[0mget_folder_for_year\u001b[0m\u001b[0;34m(\u001b[0m\u001b[0mfolder_to_save\u001b[0m\u001b[0;34m,\u001b[0m \u001b[0myear\u001b[0m\u001b[0;34m)\u001b[0m\u001b[0;34m\u001b[0m\u001b[0;34m\u001b[0m\u001b[0m\n\u001b[0;32m----> 8\u001b[0;31m         \u001b[0mutils\u001b[0m\u001b[0;34m.\u001b[0m\u001b[0mfiles\u001b[0m\u001b[0;34m.\u001b[0m\u001b[0mensure_directory\u001b[0m\u001b[0;34m(\u001b[0m\u001b[0msave_folder_name\u001b[0m\u001b[0;34m)\u001b[0m\u001b[0;34m\u001b[0m\u001b[0;34m\u001b[0m\u001b[0m\n\u001b[0m\u001b[1;32m      9\u001b[0m         \u001b[0msave_year_data\u001b[0m\u001b[0;34m(\u001b[0m\u001b[0msave_folder_name\u001b[0m\u001b[0;34m,\u001b[0m \u001b[0myear\u001b[0m\u001b[0;34m,\u001b[0m \u001b[0myearly_data\u001b[0m\u001b[0;34m)\u001b[0m\u001b[0;34m\u001b[0m\u001b[0;34m\u001b[0m\u001b[0m\n",
      "\u001b[0;31mAttributeError\u001b[0m: module 'utils.files' has no attribute 'ensure_directory'"
     ]
    }
   ],
   "source": [
    "download_data(YEARS_TO_DOWNLOAD, HISTORICAL_DATA_FOLDER)"
   ]
  },
  {
   "cell_type": "code",
   "execution_count": 17,
   "metadata": {},
   "outputs": [
    {
     "ename": "AttributeError",
     "evalue": "module 'utils.files' has no attribute 'file_helper'",
     "output_type": "error",
     "traceback": [
      "\u001b[0;31m---------------------------------------------------------------------------\u001b[0m",
      "\u001b[0;31mAttributeError\u001b[0m                            Traceback (most recent call last)",
      "\u001b[0;32m<ipython-input-17-9622222c8a5d>\u001b[0m in \u001b[0;36m<module>\u001b[0;34m()\u001b[0m\n\u001b[0;32m----> 1\u001b[0;31m \u001b[0mutils\u001b[0m\u001b[0;34m.\u001b[0m\u001b[0mfiles\u001b[0m\u001b[0;34m.\u001b[0m\u001b[0mfile_helper\u001b[0m\u001b[0;34m\u001b[0m\u001b[0;34m\u001b[0m\u001b[0m\n\u001b[0m",
      "\u001b[0;31mAttributeError\u001b[0m: module 'utils.files' has no attribute 'file_helper'"
     ]
    }
   ],
   "source": [
    "utils.files"
   ]
  },
  {
   "cell_type": "code",
   "execution_count": null,
   "metadata": {},
   "outputs": [],
   "source": []
  }
 ],
 "metadata": {
  "kernelspec": {
   "display_name": "Python 3",
   "language": "python",
   "name": "python3"
  },
  "language_info": {
   "codemirror_mode": {
    "name": "ipython",
    "version": 3
   },
   "file_extension": ".py",
   "mimetype": "text/x-python",
   "name": "python",
   "nbconvert_exporter": "python",
   "pygments_lexer": "ipython3",
   "version": "3.6.8"
  }
 },
 "nbformat": 4,
 "nbformat_minor": 2
}
