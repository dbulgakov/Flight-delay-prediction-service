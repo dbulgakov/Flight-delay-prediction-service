{
 "cells": [
  {
   "cell_type": "code",
   "execution_count": 1,
   "metadata": {},
   "outputs": [],
   "source": [
    "import os\n",
    "import sys\n",
    "import logging\n",
    "logger = logging.getLogger()\n",
    "logger.setLevel(logging.INFO)\n",
    "\n",
    "nb_dir = os.path.split(os.getcwd())[0]\n",
    "if nb_dir not in sys.path:\n",
    "    sys.path.append(nb_dir)"
   ]
  },
  {
   "cell_type": "code",
   "execution_count": 2,
   "metadata": {},
   "outputs": [
    {
     "name": "stderr",
     "output_type": "stream",
     "text": [
      "/Users/bulhakovdmytro/anaconda3/lib/python3.6/site-packages/requests/__init__.py:80: RequestsDependencyWarning: urllib3 (1.24.2) or chardet (3.0.4) doesn't match a supported version!\n",
      "  RequestsDependencyWarning)\n"
     ]
    }
   ],
   "source": [
    "import utils.downloading\n",
    "import utils.files\n",
    "from utils.progress.log_progress import log_progress\n",
    "from utils.files.file_helper import ensure_directory, get_all_files_from_subfolders\n",
    "import utils.configuration\n",
    "import numpy as np\n",
    "import pandas as pd"
   ]
  },
  {
   "cell_type": "code",
   "execution_count": 3,
   "metadata": {},
   "outputs": [],
   "source": [
    "config = utils.configuration.Configuration()"
   ]
  },
  {
   "cell_type": "code",
   "execution_count": 4,
   "metadata": {},
   "outputs": [],
   "source": [
    "HISTORICAL_DATA_FOLDER = config.config['DEFAULT']['FLIGHT_DATA']\n",
    "WEATHER_DATA_FOLDER = config.config['DEFAULT']['WEATHER_DATA']\n",
    "WEATHER_API_KEY = config.config['DEFAULT']['NOAA_WEATHER_API_KEY']\n",
    "WEATHER_CITY_CODES = config.config['DEFAULT']['WEATHER_CITY_CODES']\n",
    "YEARS_TO_DOWNLOAD = config.config['DEFAULT']['WORKING_YEARS']"
   ]
  },
  {
   "cell_type": "code",
   "execution_count": 5,
   "metadata": {},
   "outputs": [],
   "source": [
    "def download_weather_data(downloader, city_list, country, year_list, save_folder):\n",
    "    logging.info('Starting to download weather data')\n",
    "    for year in year_list:\n",
    "        download_yearly_weather_data(downloader, city_list, country, year, save_folder)"
   ]
  },
  {
   "cell_type": "code",
   "execution_count": 6,
   "metadata": {},
   "outputs": [],
   "source": [
    "def download_yearly_weather_data(downloader, city_list, country, year, save_folder):\n",
    "    start_date = '{}-01-01'.format(year)\n",
    "    end_date = '{}-01-01'.format(year + 1)\n",
    "    \n",
    "    logging.info('Requesting data for {}'.format(year))\n",
    "    \n",
    "    error_city_list = []\n",
    "    \n",
    "    for city in city_list:\n",
    "        try:\n",
    "            logging.info('Requesting data for city: {}'.format(city))\n",
    "            city_weather = weather_downloader.get_weather_for_city_by_name(city, country, start_date, end_date)\n",
    "            logging.info('Saving data for city: {}'.format(city))\n",
    "            save_folder_name = get_folder_for_year(save_folder, year)\n",
    "            ensure_directory(save_folder_name)\n",
    "\n",
    "            city_weather.to_csv('{}/{}.csv'.format(save_folder_name, city))\n",
    "        except Exception as e:\n",
    "            logging.info('No weather found for city {}'.format(city))\n",
    "            error_city_list.append(city)\n",
    "\n",
    "    logging.info('Error cities: {}'.format(error_city_list))"
   ]
  },
  {
   "cell_type": "code",
   "execution_count": 7,
   "metadata": {},
   "outputs": [],
   "source": [
    "def get_folder_for_year(folder_to_save, year):\n",
    "    return '{}/{}'.format(folder_to_save, year)"
   ]
  },
  {
   "cell_type": "code",
   "execution_count": 8,
   "metadata": {},
   "outputs": [],
   "source": [
    "def get_existing_airports_names(historical_data_folder):\n",
    "    historical_files_list = get_all_files_from_subfolders(HISTORICAL_DATA_FOLDER)\n",
    "    \n",
    "    name_list = set()\n",
    "    \n",
    "    for file in historical_files_list:\n",
    "        file_data = pd.read_csv(file)\n",
    "        unique_city_names = np.unique(file_data['ORIGIN_CITY_NAME'])        \n",
    "        name_list.update(unique_city_names)\n",
    "        \n",
    "    return list(name_list)"
   ]
  },
  {
   "cell_type": "code",
   "execution_count": 9,
   "metadata": {},
   "outputs": [],
   "source": [
    "weather_downloader = utils.downloading.NOAAWeatherDownloader(WEATHER_API_KEY, WEATHER_CITY_CODES)"
   ]
  },
  {
   "cell_type": "code",
   "execution_count": 10,
   "metadata": {},
   "outputs": [
    {
     "name": "stderr",
     "output_type": "stream",
     "text": [
      "/Users/bulhakovdmytro/anaconda3/lib/python3.6/site-packages/IPython/core/interactiveshell.py:2903: DtypeWarning: Columns (18) have mixed types. Specify dtype option on import or set low_memory=False.\n",
      "  if self.run_code(code, result):\n"
     ]
    }
   ],
   "source": [
    "city_names = get_existing_airports_names(HISTORICAL_DATA_FOLDER)"
   ]
  },
  {
   "cell_type": "code",
   "execution_count": null,
   "metadata": {},
   "outputs": [
    {
     "name": "stderr",
     "output_type": "stream",
     "text": [
      "INFO:root:Starting to download weather data\n",
      "INFO:root:Requesting data for 2017\n",
      "INFO:root:Requesting data for city: Grand Rapids, MI\n",
      "INFO:root:Saving data for city: Grand Rapids, MI\n",
      "INFO:root:Requesting data for city: Fort Smith, AR\n",
      "INFO:root:Saving data for city: Fort Smith, AR\n",
      "INFO:root:Requesting data for city: Lanai, HI\n",
      "ERROR:root:Could not find city with the specified name: Lanai, HI\n",
      "INFO:root:No weather found for city Lanai, HI\n",
      "INFO:root:Requesting data for city: Aspen, CO\n",
      "ERROR:root:Could not find city with the specified name: Aspen, CO\n",
      "INFO:root:No weather found for city Aspen, CO\n",
      "INFO:root:Requesting data for city: Columbia, MO\n",
      "INFO:root:Saving data for city: Columbia, MO\n",
      "INFO:root:Requesting data for city: South Bend, IN\n",
      "INFO:root:Saving data for city: South Bend, IN\n",
      "INFO:root:Requesting data for city: Fayetteville, NC\n",
      "INFO:root:Saving data for city: Fayetteville, NC\n",
      "INFO:root:Requesting data for city: North Bend/Coos Bay, OR\n",
      "ERROR:root:Could not find city with the specified name: North Bend/Coos Bay, OR\n",
      "INFO:root:No weather found for city North Bend/Coos Bay, OR\n",
      "INFO:root:Requesting data for city: Phoenix, AZ\n",
      "INFO:root:Saving data for city: Phoenix, AZ\n",
      "INFO:root:Requesting data for city: Oakland, CA\n",
      "INFO:root:Saving data for city: Oakland, CA\n",
      "INFO:root:Requesting data for city: Sault Ste. Marie, MI\n",
      "INFO:root:Saving data for city: Sault Ste. Marie, MI\n",
      "INFO:root:Requesting data for city: San Luis Obispo, CA\n",
      "INFO:root:Saving data for city: San Luis Obispo, CA\n",
      "INFO:root:Requesting data for city: Daytona Beach, FL\n",
      "INFO:root:Saving data for city: Daytona Beach, FL\n",
      "INFO:root:Requesting data for city: Abilene, TX\n",
      "INFO:root:Saving data for city: Abilene, TX\n",
      "INFO:root:Requesting data for city: Long Beach, CA\n",
      "INFO:root:Saving data for city: Long Beach, CA\n",
      "INFO:root:Requesting data for city: Tallahassee, FL\n",
      "INFO:root:Saving data for city: Tallahassee, FL\n",
      "INFO:root:Requesting data for city: Hilton Head, SC\n",
      "ERROR:root:Could not find city with the specified name: Hilton Head, SC\n",
      "INFO:root:No weather found for city Hilton Head, SC\n",
      "INFO:root:Requesting data for city: Pittsburgh, PA\n",
      "INFO:root:Saving data for city: Pittsburgh, PA\n",
      "INFO:root:Requesting data for city: Albany, GA\n",
      "INFO:root:Saving data for city: Albany, GA\n",
      "INFO:root:Requesting data for city: Rota, TT\n",
      "ERROR:root:Could not find city with the specified name: Rota, TT\n",
      "INFO:root:No weather found for city Rota, TT\n",
      "INFO:root:Requesting data for city: Norfolk, VA\n",
      "INFO:root:Saving data for city: Norfolk, VA\n",
      "INFO:root:Requesting data for city: Fayetteville, AR\n",
      "INFO:root:Saving data for city: Fayetteville, AR\n",
      "INFO:root:Requesting data for city: Laramie, WY\n",
      "INFO:root:Saving data for city: Laramie, WY\n",
      "INFO:root:Requesting data for city: Lewisburg, WV\n",
      "ERROR:root:Could not find city with the specified name: Lewisburg, WV\n",
      "INFO:root:No weather found for city Lewisburg, WV\n",
      "INFO:root:Requesting data for city: Quincy, IL\n",
      "INFO:root:Saving data for city: Quincy, IL\n",
      "INFO:root:Requesting data for city: Deadhorse, AK\n",
      "ERROR:root:Could not find city with the specified name: Deadhorse, AK\n",
      "INFO:root:No weather found for city Deadhorse, AK\n",
      "INFO:root:Requesting data for city: Lake Charles, LA\n",
      "INFO:root:Saving data for city: Lake Charles, LA\n",
      "INFO:root:Requesting data for city: Sarasota/Bradenton, FL\n",
      "ERROR:root:Could not find city with the specified name: Sarasota/Bradenton, FL\n",
      "INFO:root:No weather found for city Sarasota/Bradenton, FL\n",
      "INFO:root:Requesting data for city: Dothan, AL\n",
      "INFO:root:Saving data for city: Dothan, AL\n",
      "INFO:root:Requesting data for city: Newport News/Williamsburg, VA\n",
      "ERROR:root:Could not find city with the specified name: Newport News/Williamsburg, VA\n",
      "INFO:root:No weather found for city Newport News/Williamsburg, VA\n",
      "INFO:root:Requesting data for city: Sioux City, IA\n",
      "INFO:root:Saving data for city: Sioux City, IA\n",
      "INFO:root:Requesting data for city: Hobbs, NM\n",
      "ERROR:root:Could not find city with the specified name: Hobbs, NM\n",
      "INFO:root:No weather found for city Hobbs, NM\n",
      "INFO:root:Requesting data for city: Flagstaff, AZ\n",
      "INFO:root:Saving data for city: Flagstaff, AZ\n",
      "INFO:root:Requesting data for city: Milwaukee, WI\n",
      "INFO:root:Saving data for city: Milwaukee, WI\n",
      "INFO:root:Requesting data for city: Nantucket, MA\n",
      "ERROR:root:Could not find city with the specified name: Nantucket, MA\n",
      "INFO:root:No weather found for city Nantucket, MA\n",
      "INFO:root:Requesting data for city: Cheyenne, WY\n",
      "INFO:root:Saving data for city: Cheyenne, WY\n",
      "INFO:root:Requesting data for city: Allentown/Bethlehem/Easton, PA\n",
      "ERROR:root:Could not find city with the specified name: Allentown/Bethlehem/Easton, PA\n",
      "INFO:root:No weather found for city Allentown/Bethlehem/Easton, PA\n",
      "INFO:root:Requesting data for city: Syracuse, NY\n",
      "INFO:root:Saving data for city: Syracuse, NY\n",
      "INFO:root:Requesting data for city: Escanaba, MI\n",
      "INFO:root:Saving data for city: Escanaba, MI\n",
      "INFO:root:Requesting data for city: Santa Barbara, CA\n",
      "INFO:root:Saving data for city: Santa Barbara, CA\n",
      "INFO:root:Requesting data for city: Kalamazoo, MI\n",
      "INFO:root:Saving data for city: Kalamazoo, MI\n",
      "INFO:root:Requesting data for city: Redding, CA\n",
      "INFO:root:Saving data for city: Redding, CA\n",
      "INFO:root:Requesting data for city: Monterey, CA\n",
      "INFO:root:Saving data for city: Monterey, CA\n",
      "INFO:root:Requesting data for city: Tulsa, OK\n",
      "INFO:root:Saving data for city: Tulsa, OK\n",
      "INFO:root:Requesting data for city: Manhattan/Ft. Riley, KS\n",
      "ERROR:root:Could not find city with the specified name: Manhattan/Ft. Riley, KS\n",
      "INFO:root:No weather found for city Manhattan/Ft. Riley, KS\n",
      "INFO:root:Requesting data for city: Boston, MA\n",
      "INFO:root:No weather found for city Boston, MA\n",
      "INFO:root:Requesting data for city: Lexington, KY\n",
      "INFO:root:Saving data for city: Lexington, KY\n",
      "INFO:root:Requesting data for city: El Paso, TX\n",
      "INFO:root:Saving data for city: El Paso, TX\n",
      "INFO:root:Requesting data for city: St. Cloud, MN\n",
      "INFO:root:Saving data for city: St. Cloud, MN\n",
      "INFO:root:Requesting data for city: Sioux Falls, SD\n",
      "INFO:root:Saving data for city: Sioux Falls, SD\n",
      "INFO:root:Requesting data for city: Miami, FL\n",
      "INFO:root:Saving data for city: Miami, FL\n",
      "INFO:root:Requesting data for city: Appleton, WI\n",
      "ERROR:root:Could not find city with the specified name: Appleton, WI\n",
      "INFO:root:No weather found for city Appleton, WI\n",
      "INFO:root:Requesting data for city: Barrow, AK\n",
      "ERROR:root:Could not find city with the specified name: Barrow, AK\n",
      "INFO:root:No weather found for city Barrow, AK\n",
      "INFO:root:Requesting data for city: Beaumont/Port Arthur, TX\n",
      "ERROR:root:Could not find city with the specified name: Beaumont/Port Arthur, TX\n",
      "INFO:root:No weather found for city Beaumont/Port Arthur, TX\n",
      "INFO:root:Requesting data for city: Traverse City, MI\n",
      "INFO:root:Saving data for city: Traverse City, MI\n",
      "INFO:root:Requesting data for city: Toledo, OH\n",
      "INFO:root:Saving data for city: Toledo, OH\n",
      "INFO:root:Requesting data for city: Ithaca/Cortland, NY\n",
      "ERROR:root:Could not find city with the specified name: Ithaca/Cortland, NY\n",
      "INFO:root:No weather found for city Ithaca/Cortland, NY\n",
      "INFO:root:Requesting data for city: St. Augustine, FL\n",
      "INFO:root:Saving data for city: St. Augustine, FL\n",
      "INFO:root:Requesting data for city: Jamestown, ND\n",
      "INFO:root:Saving data for city: Jamestown, ND\n",
      "INFO:root:Requesting data for city: Bethel, AK\n",
      "ERROR:root:Could not find city with the specified name: Bethel, AK\n",
      "INFO:root:No weather found for city Bethel, AK\n",
      "INFO:root:Requesting data for city: Meridian, MS\n",
      "INFO:root:Saving data for city: Meridian, MS\n",
      "INFO:root:Requesting data for city: Tucson, AZ\n",
      "INFO:root:Saving data for city: Tucson, AZ\n",
      "INFO:root:Requesting data for city: St. Louis, MO\n",
      "INFO:root:Saving data for city: St. Louis, MO\n",
      "INFO:root:Requesting data for city: Owensboro, KY\n",
      "INFO:root:Saving data for city: Owensboro, KY\n",
      "INFO:root:Requesting data for city: Champaign/Urbana, IL\n",
      "ERROR:root:Could not find city with the specified name: Champaign/Urbana, IL\n",
      "INFO:root:No weather found for city Champaign/Urbana, IL\n",
      "INFO:root:Requesting data for city: Baton Rouge, LA\n",
      "INFO:root:Saving data for city: Baton Rouge, LA\n",
      "INFO:root:Requesting data for city: Eau Claire, WI\n",
      "INFO:root:Saving data for city: Eau Claire, WI\n",
      "INFO:root:Requesting data for city: San Antonio, TX\n",
      "INFO:root:Saving data for city: San Antonio, TX\n"
     ]
    },
    {
     "name": "stderr",
     "output_type": "stream",
     "text": [
      "INFO:root:Requesting data for city: Los Angeles, CA\n"
     ]
    }
   ],
   "source": [
    "download_weather_data(weather_downloader, city_names, 'US', YEARS_TO_DOWNLOAD, WEATHER_DATA_FOLDER)"
   ]
  },
  {
   "cell_type": "code",
   "execution_count": null,
   "metadata": {},
   "outputs": [],
   "source": []
  }
 ],
 "metadata": {
  "kernelspec": {
   "display_name": "Python 3",
   "language": "python",
   "name": "python3"
  },
  "language_info": {
   "codemirror_mode": {
    "name": "ipython",
    "version": 3
   },
   "file_extension": ".py",
   "mimetype": "text/x-python",
   "name": "python",
   "nbconvert_exporter": "python",
   "pygments_lexer": "ipython3",
   "version": "3.6.8"
  }
 },
 "nbformat": 4,
 "nbformat_minor": 2
}
