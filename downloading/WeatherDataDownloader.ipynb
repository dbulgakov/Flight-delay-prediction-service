{
 "cells": [
  {
   "cell_type": "code",
   "execution_count": 1,
   "metadata": {},
   "outputs": [],
   "source": [
    "import os\n",
    "import sys\n",
    "import logging\n",
    "logger = logging.getLogger()\n",
    "logger.setLevel(logging.INFO)\n",
    "\n",
    "nb_dir = os.path.split(os.getcwd())[0]\n",
    "if nb_dir not in sys.path:\n",
    "    sys.path.append(nb_dir)"
   ]
  },
  {
   "cell_type": "code",
   "execution_count": 2,
   "metadata": {},
   "outputs": [
    {
     "name": "stderr",
     "output_type": "stream",
     "text": [
      "/Users/bulhakovdmytro/anaconda3/lib/python3.6/site-packages/requests/__init__.py:80: RequestsDependencyWarning: urllib3 (1.24.2) or chardet (3.0.4) doesn't match a supported version!\n",
      "  RequestsDependencyWarning)\n"
     ]
    }
   ],
   "source": [
    "import utils.downloading\n",
    "from utils.progress.log_progress import log_progress\n",
    "from utils.files.file_helper import ensure_directory, get_all_files_from_subfolders\n",
    "import utils.configuration\n",
    "import numpy as np\n",
    "import pandas as pd"
   ]
  },
  {
   "cell_type": "code",
   "execution_count": 3,
   "metadata": {},
   "outputs": [],
   "source": [
    "config = utils.configuration.Configuration()"
   ]
  },
  {
   "cell_type": "code",
   "execution_count": 4,
   "metadata": {},
   "outputs": [],
   "source": [
    "HISTORICAL_DATA_FOLDER = config.config['DEFAULT']['FLIGHT_DATA']\n",
    "WEATHER_DATA_FOLDER = config.config['DEFAULT']['WEATHER_DATA']\n",
    "WEATHER_API_KEY = config.config['DEFAULT']['NOAA_WEATHER_API_KEY']\n",
    "WEATHER_CITY_CODES = config.config['DEFAULT']['WEATHER_CITY_CODES']\n",
    "YEARS_TO_DOWNLOAD = config.config['DEFAULT']['WORKING_YEARS']"
   ]
  },
  {
   "cell_type": "code",
   "execution_count": 5,
   "metadata": {},
   "outputs": [],
   "source": [
    "def download_weather_data(downloader, city_list, country, year_list, save_folder):\n",
    "    logging.info('Starting to download weather data')\n",
    "    for year in year_list:\n",
    "        download_yearly_weather_data(downloader, city_list, country, year, save_folder)"
   ]
  },
  {
   "cell_type": "code",
   "execution_count": 6,
   "metadata": {},
   "outputs": [],
   "source": [
    "def download_yearly_weather_data(downloader, city_list, country, year, save_folder):\n",
    "    start_date = '{}-01-01'.format(year)\n",
    "    end_date = '{}-01-01'.format(year + 1)\n",
    "    \n",
    "    logging.info('Requesting data for {}'.format(year))\n",
    "    \n",
    "    error_city_list = []\n",
    "    \n",
    "    for city in city_list:\n",
    "        try:\n",
    "            logging.info('Requesting data for city: {}'.format(city))\n",
    "            city_weather = weather_downloader.get_weather_for_city_by_name(city, country, start_date, end_date)\n",
    "            logging.info('Saving data for city: {}'.format(city))\n",
    "            save_folder_name = get_folder_for_year(save_folder, year)\n",
    "            ensure_directory(save_folder_name)\n",
    "\n",
    "            city_weather.to_csv('{}/{}.csv'.format(save_folder_name, city), index=False)\n",
    "        except Exception as e:\n",
    "            logging.info('No weather found for city {}'.format(city))\n",
    "            error_city_list.append(city)\n",
    "\n",
    "    logging.info('Error cities: {}'.format(error_city_list))"
   ]
  },
  {
   "cell_type": "code",
   "execution_count": 7,
   "metadata": {},
   "outputs": [],
   "source": [
    "def get_folder_for_year(folder_to_save, year):\n",
    "    return '{}/{}'.format(folder_to_save, year)"
   ]
  },
  {
   "cell_type": "code",
   "execution_count": 8,
   "metadata": {},
   "outputs": [],
   "source": [
    "def get_existing_airports_names(historical_data_folder):\n",
    "    historical_files_list = get_all_files_from_subfolders(HISTORICAL_DATA_FOLDER)\n",
    "    \n",
    "    name_list = set()\n",
    "    \n",
    "    for file in historical_files_list:\n",
    "        file_data = pd.read_csv(file, \n",
    "                           dtype={'QUARTER': int, 'FL_NUM': str,\n",
    "                                 'OP_UNIQUE_CARRIER': str, 'TAIL_NUM': str,\n",
    "                                 'ORIGIN_AIRPORT_ID': int, 'ORIGIN_AIRPORT_SEQ_ID': int,\n",
    "                                 'ORIGIN_AIRPORT_SEQ_ID': int, 'ORIGIN_CITY_MARKET_ID': int,\n",
    "                                 'ORIGIN': str, 'ORIGIN_CITY_NAME': str, \n",
    "                                 'DEST_AIRPORT_ID': int, 'DEST_AIRPORT_SEQ_ID': int,\n",
    "                                 'DEST_CITY_MARKET_ID': int, 'DEST': str,\n",
    "                                 'DEST_CITY_NAME': str, 'CRS_DEP_TIME': int,\n",
    "                                 'DEP_DELAY': float, 'ARR_DELAY': float,\n",
    "                                 'CANCELLED': int, 'CANCELLATION_CODE': str,\n",
    "                                 'DIVERTED': int, 'CRS_ELAPSED_TIME': str,\n",
    "                                 'CARRIER_DELAY': float, 'WEATHER_DELAY': float,\n",
    "                                 'NAS_DELAY': float, 'SECURITY_DELAY': float,\n",
    "                                 'LATE_AIRCRAFT_DELAY': float\n",
    "                                 }, \n",
    "                           parse_dates=['FL_DATE'])\n",
    "        unique_city_names = np.unique(file_data['ORIGIN_CITY_NAME'])        \n",
    "        name_list.update(unique_city_names)\n",
    "        \n",
    "    return list(name_list)"
   ]
  },
  {
   "cell_type": "code",
   "execution_count": 9,
   "metadata": {},
   "outputs": [],
   "source": [
    "weather_downloader = utils.downloading.NOAAWeatherDownloader(WEATHER_API_KEY, WEATHER_CITY_CODES)"
   ]
  },
  {
   "cell_type": "code",
   "execution_count": 10,
   "metadata": {},
   "outputs": [],
   "source": [
    "city_names = get_existing_airports_names(HISTORICAL_DATA_FOLDER)"
   ]
  },
  {
   "cell_type": "code",
   "execution_count": null,
   "metadata": {},
   "outputs": [
    {
     "name": "stderr",
     "output_type": "stream",
     "text": [
      "INFO:root:Starting to download weather data\n",
      "INFO:root:Requesting data for 2017\n",
      "INFO:root:Requesting data for city: Kahului, HI\n",
      "INFO:root:Saving data for city: Kahului, HI\n",
      "INFO:root:Requesting data for city: Baltimore, MD\n"
     ]
    }
   ],
   "source": [
    "download_weather_data(weather_downloader, city_names, 'US', YEARS_TO_DOWNLOAD, WEATHER_DATA_FOLDER)"
   ]
  },
  {
   "cell_type": "code",
   "execution_count": null,
   "metadata": {},
   "outputs": [],
   "source": [
    "WEATHER_API_KEY"
   ]
  },
  {
   "cell_type": "code",
   "execution_count": null,
   "metadata": {},
   "outputs": [],
   "source": []
  }
 ],
 "metadata": {
  "kernelspec": {
   "display_name": "Python 3",
   "language": "python",
   "name": "python3"
  },
  "language_info": {
   "codemirror_mode": {
    "name": "ipython",
    "version": 3
   },
   "file_extension": ".py",
   "mimetype": "text/x-python",
   "name": "python",
   "nbconvert_exporter": "python",
   "pygments_lexer": "ipython3",
   "version": "3.6.8"
  }
 },
 "nbformat": 4,
 "nbformat_minor": 2
}
